{
 "cells": [
  {
   "cell_type": "markdown",
   "id": "19234b65",
   "metadata": {},
   "source": [
    "### Hello, Data!\t"
   ]
  },
  {
   "cell_type": "code",
   "execution_count": 4,
   "id": "ad82e388",
   "metadata": {},
   "outputs": [
    {
     "name": "stderr",
     "output_type": "stream",
     "text": [
      "<>:3: SyntaxWarning: invalid escape sequence '\\C'\n",
      "<>:3: SyntaxWarning: invalid escape sequence '\\C'\n",
      "C:\\Users\\Dell\\AppData\\Local\\Temp\\ipykernel_15800\\2771697775.py:3: SyntaxWarning: invalid escape sequence '\\C'\n",
      "  df = pd.read_csv(\"D:\\College Second Program\\PROG8245-Machine Learning Programming\\Lab2\\Lab2_PROG8245\\orders.csv\")\n"
     ]
    },
    {
     "data": {
      "text/html": [
       "<div>\n",
       "<style scoped>\n",
       "    .dataframe tbody tr th:only-of-type {\n",
       "        vertical-align: middle;\n",
       "    }\n",
       "\n",
       "    .dataframe tbody tr th {\n",
       "        vertical-align: top;\n",
       "    }\n",
       "\n",
       "    .dataframe thead th {\n",
       "        text-align: right;\n",
       "    }\n",
       "</style>\n",
       "<table border=\"1\" class=\"dataframe\">\n",
       "  <thead>\n",
       "    <tr style=\"text-align: right;\">\n",
       "      <th></th>\n",
       "      <th>date</th>\n",
       "      <th>customer_id</th>\n",
       "      <th>product</th>\n",
       "      <th>price</th>\n",
       "      <th>quantity</th>\n",
       "      <th>coupon_code</th>\n",
       "      <th>shipping_city</th>\n",
       "    </tr>\n",
       "  </thead>\n",
       "  <tbody>\n",
       "    <tr>\n",
       "      <th>0</th>\n",
       "      <td>56:34.9</td>\n",
       "      <td>CUST1000</td>\n",
       "      <td>Headphones</td>\n",
       "      <td>725.04</td>\n",
       "      <td>1</td>\n",
       "      <td>DEAL20</td>\n",
       "      <td>Houston</td>\n",
       "    </tr>\n",
       "    <tr>\n",
       "      <th>1</th>\n",
       "      <td>56:34.9</td>\n",
       "      <td>CUST1001</td>\n",
       "      <td>Keyboard</td>\n",
       "      <td>65.62</td>\n",
       "      <td>2</td>\n",
       "      <td>WELCOME</td>\n",
       "      <td>Chicago</td>\n",
       "    </tr>\n",
       "    <tr>\n",
       "      <th>2</th>\n",
       "      <td>56:34.9</td>\n",
       "      <td>CUST1002</td>\n",
       "      <td>Keyboard</td>\n",
       "      <td>610.04</td>\n",
       "      <td>3</td>\n",
       "      <td>DEAL20</td>\n",
       "      <td>Los Angeles</td>\n",
       "    </tr>\n",
       "  </tbody>\n",
       "</table>\n",
       "</div>"
      ],
      "text/plain": [
       "      date customer_id     product   price  quantity coupon_code shipping_city\n",
       "0  56:34.9    CUST1000  Headphones  725.04         1      DEAL20       Houston\n",
       "1  56:34.9    CUST1001    Keyboard   65.62         2     WELCOME       Chicago\n",
       "2  56:34.9    CUST1002    Keyboard  610.04         3      DEAL20   Los Angeles"
      ]
     },
     "execution_count": 4,
     "metadata": {},
     "output_type": "execute_result"
    }
   ],
   "source": [
    "import pandas as pd\n",
    "\n",
    "df = pd.read_csv(\"D:\\College Second Program\\PROG8245-Machine Learning Programming\\Lab2\\Lab2_PROG8245\\orders.csv\") \n",
    "df.head(3)  "
   ]
  },
  {
   "cell_type": "markdown",
   "id": "4fd4588b",
   "metadata": {},
   "source": [
    "### Pick the Right Container ###\n",
    "To represent each transaction, we need a structure that:\n",
    "\n",
    "Holds multiple attributes (like date, customer_id, product, etc.)\n",
    "\n",
    "Supports methods for cleaning or calculations (e.g., .clean() or .total())\n",
    "\n",
    "Justification:\n",
    "\n",
    "A Python class is the best fit here because it allows bundling data (attributes) and behavior (methods) together.\n",
    "\n",
    "A dictionary would store data but not behavior.\n",
    "\n",
    "A namedtuple is immutable and doesn't support custom methods easily."
   ]
  },
  {
   "cell_type": "markdown",
   "id": "ab3f9aad",
   "metadata": {},
   "source": [
    "#### Transaction Class and OO data structure\t\n"
   ]
  },
  {
   "cell_type": "code",
   "execution_count": 5,
   "id": "196b8d5a",
   "metadata": {},
   "outputs": [],
   "source": [
    "from typing import Optional\n",
    "\n",
    "class Transaction:\n",
    "    def __init__(self, date: str, customer_id: str, product: str, price: float, quantity: int, coupon_code: Optional[str], shipping_city: str):\n",
    "        self.date = date\n",
    "        self.customer_id = customer_id\n",
    "        self.product = product\n",
    "        self.price = price\n",
    "        self.quantity = quantity\n",
    "        self.coupon_code = coupon_code\n",
    "        self.shipping_city = shipping_city\n",
    "        self.discount_percent = 0.0 \n",
    "\n",
    "    def total(self) -> float:\n",
    "        return self.price * self.quantity\n",
    "\n",
    "\n",
    "    def parse_discount(self) -> float:\n",
    "        if self.coupon_code == \"NONE\":\n",
    "            return 0.0\n",
    "        elif self.coupon_code.startswith(\"DEAL\"):\n",
    "            try:\n",
    "                return float(self.coupon_code.replace(\"DEAL\", \"\"))\n",
    "            except:\n",
    "                return 0.0\n",
    "        elif self.coupon_code == \"WELCOME\":\n",
    "            return 10.0\n",
    "        return 0.0\n",
    "\n",
    "    def clean(self):\n",
    "        self.customer_id = self.customer_id.strip().upper()\n",
    "        self.shipping_city = self.shipping_city.strip().title()\n",
    "\n",
    "\n",
    "        code = str(self.coupon_code).strip().upper()\n",
    "        if code in {\"\", \"NONE\", \"NULL\", \"NAN\"}:\n",
    "            self.coupon_code = \"NONE\"\n",
    "        else:\n",
    "            self.coupon_code = code\n",
    "\n",
    "\n",
    "        self.discount_percent = self.parse_discount()\n"
   ]
  },
  {
   "cell_type": "markdown",
   "id": "1fec7a30",
   "metadata": {},
   "source": [
    "### Bulk Loader\t\n",
    "load_transactions() returning list ↦ type-hinted"
   ]
  },
  {
   "cell_type": "code",
   "execution_count": 6,
   "id": "7383d388",
   "metadata": {},
   "outputs": [
    {
     "data": {
      "text/plain": [
       "500"
      ]
     },
     "execution_count": 6,
     "metadata": {},
     "output_type": "execute_result"
    }
   ],
   "source": [
    "from typing import List\n",
    "\n",
    "def load_transactions(df: pd.DataFrame) -> List[Transaction]:\n",
    "    transactions = []\n",
    "    for _, row in df.iterrows():\n",
    "        transaction = Transaction(\n",
    "            date=row['date'],\n",
    "            customer_id=row['customer_id'],\n",
    "            product=row['product'],\n",
    "            price=row['price'],\n",
    "            quantity=row['quantity'],\n",
    "            coupon_code=row.get('coupon_code'),\n",
    "            shipping_city=row['shipping_city']\n",
    "        )\n",
    "        transactions.append(transaction)\n",
    "    return transactions\n",
    "\n",
    "\n",
    "all_transactions = load_transactions(df)\n",
    "\n",
    "\n",
    "len(all_transactions)\n"
   ]
  },
  {
   "cell_type": "markdown",
   "id": "4dd9ae7f",
   "metadata": {},
   "source": [
    "### Quick Profiling\t\n",
    "Min/mean/max price, unique city count (set)"
   ]
  },
  {
   "cell_type": "code",
   "execution_count": 7,
   "id": "52e59a49",
   "metadata": {},
   "outputs": [
    {
     "name": "stdout",
     "output_type": "stream",
     "text": [
      "Min: 20.31, Mean: 742.1563000000001, Max: 1492.66\n",
      "Unique Cities: 5\n"
     ]
    }
   ],
   "source": [
    "prices = [t.price for t in all_transactions]\n",
    "cities = {t.shipping_city for t in all_transactions}\n",
    "\n",
    "\n",
    "min_price = min(prices)\n",
    "mean_price = sum(prices) / len(prices)\n",
    "max_price = max(prices)\n",
    "unique_city_count = len(cities)\n",
    "\n",
    "\n",
    "print(f\"Min: {min_price}, Mean: {mean_price}, Max: {max_price}\")\n",
    "print(f\"Unique Cities: {unique_city_count}\")\n"
   ]
  },
  {
   "cell_type": "markdown",
   "id": "17cb09e0",
   "metadata": {},
   "source": [
    "### Spot the Grime\n",
    "\n",
    "Three dirty data examples:\n",
    "\n",
    "1. Inconsistent city names: `\"new york\"`, `\"NEW YORK\"`, and `\"New York\"` should be standardized.\n",
    "2. Some coupon codes are missing, written as `\"none\"` or `\"null\"`.\n",
    "3. The `date` field appears to be improperly formatted (`\"56:34.9\"`) and not usable as a timestamp.\n"
   ]
  },
  {
   "cell_type": "code",
   "execution_count": null,
   "id": "4b3077fa",
   "metadata": {},
   "outputs": [],
   "source": []
  },
  {
   "cell_type": "markdown",
   "id": "d806e238",
   "metadata": {},
   "source": [
    "### Cleaning Rules\t\n",
    "Execute fixes inside clean(); show “before/after” counts"
   ]
  },
  {
   "cell_type": "code",
   "execution_count": 8,
   "id": "cc1caf40",
   "metadata": {},
   "outputs": [
    {
     "name": "stdout",
     "output_type": "stream",
     "text": [
      "Before Cleaning:\n",
      " - Dirty coupons: 0\n",
      " - Unformatted cities: 0\n",
      "\n",
      "After Cleaning:\n",
      " - Standardized 'NONE' coupons: 97\n",
      " - Unique cities: 5\n"
     ]
    }
   ],
   "source": [
    "\n",
    "dirty_coupon_codes = [t.coupon_code for t in all_transactions if not t.coupon_code or str(t.coupon_code).lower() in {\"none\", \"null\", \"\"}]\n",
    "dirty_city_names = [t.shipping_city for t in all_transactions if t.shipping_city != t.shipping_city.title()]\n",
    "\n",
    "print(f\"Before Cleaning:\")\n",
    "print(f\" - Dirty coupons: {len(dirty_coupon_codes)}\")\n",
    "print(f\" - Unformatted cities: {len(dirty_city_names)}\")\n",
    "\n",
    "\n",
    "for t in all_transactions:\n",
    "    t.clean()\n",
    "\n",
    "\n",
    "dirty_coupon_codes_after = [t.coupon_code for t in all_transactions if t.coupon_code == \"NONE\"]\n",
    "unique_cities_after = {t.shipping_city for t in all_transactions}\n",
    "\n",
    "print(f\"\\nAfter Cleaning:\")\n",
    "print(f\" - Standardized 'NONE' coupons: {len(dirty_coupon_codes_after)}\")\n",
    "print(f\" - Unique cities: {len(unique_cities_after)}\")\n"
   ]
  },
  {
   "cell_type": "markdown",
   "id": "65bf020f",
   "metadata": {},
   "source": [
    "### Transformations\t\n",
    "For example: Parse coupon_code ➞ numeric discount (others apply)"
   ]
  },
  {
   "cell_type": "code",
   "execution_count": 9,
   "id": "13e0cc18",
   "metadata": {},
   "outputs": [
    {
     "name": "stdout",
     "output_type": "stream",
     "text": [
      "Coupon: DEAL20, Discount: 20.0%\n",
      "Coupon: WELCOME, Discount: 10.0%\n",
      "Coupon: DEAL20, Discount: 20.0%\n",
      "Coupon: WELCOME, Discount: 10.0%\n",
      "Coupon: FREESHIP, Discount: 0.0%\n"
     ]
    }
   ],
   "source": [
    "for t in all_transactions:\n",
    "    t.clean() \n",
    "\n",
    "for t in all_transactions[:5]:\n",
    "    print(f\"Coupon: {t.coupon_code}, Discount: {t.discount_percent}%\")\n"
   ]
  },
  {
   "cell_type": "markdown",
   "id": "799831fa",
   "metadata": {},
   "source": [
    "# Feature Engineering\n"
   ]
  },
  {
   "cell_type": "code",
   "execution_count": 11,
   "id": "e1b0bbfc",
   "metadata": {},
   "outputs": [],
   "source": [
    "# Add a dummy feature_engineer method to Transaction if not already present\n",
    "def feature_engineer(self):\n",
    "    # Example: Add a placeholder attribute or calculation\n",
    "    self.has_discount = self.discount_percent > 0\n",
    "\n",
    "Transaction.feature_engineer = feature_engineer\n",
    "\n",
    "for t in all_transactions:\n",
    "    t.feature_engineer()\n"
   ]
  },
  {
   "cell_type": "markdown",
   "id": "557a771c",
   "metadata": {},
   "source": [
    "# Mini-Aggregation\n"
   ]
  },
  {
   "cell_type": "code",
   "execution_count": 12,
   "id": "25c40db9",
   "metadata": {},
   "outputs": [
    {
     "data": {
      "text/plain": [
       "[('Houston', 236216.94699999993),\n",
       " ('New York', 230309.32499999995),\n",
       " ('Los Angeles', 218596.09000000003),\n",
       " ('Chicago', 192229.56899999996),\n",
       " ('Phoenix', 182967.706)]"
      ]
     },
     "execution_count": 12,
     "metadata": {},
     "output_type": "execute_result"
    }
   ],
   "source": [
    "from collections import defaultdict\n",
    "\n",
    "city_revenue = defaultdict(float)\n",
    "for t in all_transactions:\n",
    "    gross = t.total()\n",
    "    discount = gross * (t.discount_percent / 100)\n",
    "    net_revenue = gross - discount\n",
    "    city_revenue[t.shipping_city] += net_revenue\n",
    "\n",
    "sorted(city_revenue.items(), key=lambda x: x[1], reverse=True)[:5]"
   ]
  },
  {
   "cell_type": "markdown",
   "id": "346c8126",
   "metadata": {},
   "source": [
    "# Serialization Checkpoint\n"
   ]
  },
  {
   "cell_type": "code",
   "execution_count": 14,
   "id": "b121cdd0",
   "metadata": {},
   "outputs": [],
   "source": [
    "\n",
    "cleaned_data = []\n",
    "for t in all_transactions:\n",
    "    cleaned_data.append({\n",
    "        \"date\": t.date,\n",
    "        \"customer_id\": t.customer_id,\n",
    "        \"product\": t.product,\n",
    "        \"price\": t.price,\n",
    "        \"quantity\": t.quantity,\n",
    "        \"coupon_code\": t.coupon_code,\n",
    "        \"shipping_city\": t.shipping_city,\n",
    "        \"discount_percent\": t.discount_percent,\n",
    "        \"total_price\": t.total(),\n",
    "        \"net_revenue\": t.total() * (1 - t.discount_percent / 100),\n",
    "        \"days_since\": None  # or use a default value or calculation if available\n",
    "    })\n",
    "\n",
    "df_cleaned = pd.DataFrame(cleaned_data)\n",
    "df_cleaned.to_json(\"cleaned_orders.json\", orient=\"records\", indent=2)\n",
    "df_cleaned.to_parquet(\"cleaned_orders.parquet\", index=False)\n"
   ]
  },
  {
   "cell_type": "markdown",
   "id": "04bcc488",
   "metadata": {},
   "source": [
    "# Soft Interview Reflection\n",
    "\n",
    "### Reflection\n",
    "Using OOP helped encapsulate data cleaning, transformation, and feature engineering logic within the `Transaction` class.\n",
    "This made the overall pipeline modular, reusable, and easier to test or extend. Instead of having fragmented logic,\n",
    "we could centralize business rules directly where they belong.\n"
   ]
  },
  {
   "cell_type": "markdown",
   "id": "30cf75f4",
   "metadata": {},
   "source": [
    "# Data Dictionary Section\n",
    "# Markdown Table\n",
    "\n",
    "### Data Dictionary\n",
    "\n",
    "| Field                | Type     | Description                              | Source        |\n",
    "|----------------------|----------|------------------------------------------|----------------|\n",
    "| date                | datetime | Date of transaction                      | orders_500.csv |\n",
    "| customer_id         | string   | Unique customer identifier               | orders_500.csv |\n",
    "| product             | string   | Name of the product                      | orders_500.csv |\n",
    "| price               | float    | Price per unit                           | orders_500.csv |\n",
    "| quantity            | int      | Number of units purchased                | orders_500.csv |\n",
    "| coupon_code         | string   | Promotional code used                    | orders_500.csv |\n",
    "| shipping_city       | string   | City where order was shipped             | orders_500.csv |\n",
    "| total               | float    | Computed total price = price * quantity  | derived         |\n",
    "| discount            | int      | Numeric discount derived from code       | derived         |\n",
    "| days_since_purchase | int      | Days between purchase and today          | derived         |\n"
   ]
  }
 ],
 "metadata": {
  "kernelspec": {
   "display_name": ".venv",
   "language": "python",
   "name": "python3"
  },
  "language_info": {
   "codemirror_mode": {
    "name": "ipython",
    "version": 3
   },
   "file_extension": ".py",
   "mimetype": "text/x-python",
   "name": "python",
   "nbconvert_exporter": "python",
   "pygments_lexer": "ipython3",
   "version": "3.13.3"
  }
 },
 "nbformat": 4,
 "nbformat_minor": 5
}
